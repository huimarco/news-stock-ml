{
 "cells": [
  {
   "cell_type": "markdown",
   "metadata": {},
   "source": [
    "### Attempt 1: Beautiful Soup"
   ]
  },
  {
   "cell_type": "code",
   "execution_count": 1,
   "metadata": {},
   "outputs": [],
   "source": [
    "import requests\n",
    "from bs4 import BeautifulSoup\n",
    "import pandas as pd"
   ]
  },
  {
   "cell_type": "code",
   "execution_count": 4,
   "metadata": {},
   "outputs": [],
   "source": [
    "wsj_login_page = 'https://sso.accounts.dowjones.com/login-page?client_id=5hssEAdMy0mJTICnJNvC9TXEw3Va7jfO&redirect_uri=https%3A%2F%2Fwww.wsj.com%2Fclient%2Fauth&response_type=code&scope=openid%20idp_id%20roles%20tags%20email%20given_name%20family_name%20uuid%20djid%20djUsername%20djStatus%20trackid%20prts%20updated_at%20created_at%20offline_access&ui_locales=en-us-x-wsj-223-2&nonce=1b34552c-ac89-4605-81d9-5b552a7452a0&state=nmfLpXnMOWJLlEjK.ifKgeElwMAfxoWUUCsEZVu2q-WgzWtwQKEy_EyvQbTs&resource=https%253A%252F%252Fwww.wsj.com%252F&protocol=oauth2&client=5hssEAdMy0mJTICnJNvC9TXEw3Va7jfO#!/signin'"
   ]
  },
  {
   "cell_type": "code",
   "execution_count": 5,
   "metadata": {},
   "outputs": [],
   "source": [
    "def login(username, password):\n",
    "    login_url = wsj_login_page\n",
    "    headers = {\n",
    "        \"User-Agent\": \"Mozilla/5.0 (Windows NT 10.0; Win64; x64) AppleWebKit/537.36 (KHTML, like Gecko) Chrome/96.0.4664.110 Safari/537.36\"\n",
    "    }\n",
    "\n",
    "    # Create a session object to persist the login session\n",
    "    with requests.Session() as session:\n",
    "        # Send a POST request with login credentials\n",
    "        login_data = {\n",
    "            \"username\": username,\n",
    "            \"password\": password\n",
    "        }\n",
    "        response = session.post(login_url, headers=headers, data=login_data)\n",
    "\n",
    "        # Check if login was successful (you might need to customize this condition)\n",
    "        if response.status_code == 200:\n",
    "            return session\n",
    "        else:\n",
    "            print(\"Login failed:\", response.status_code)\n",
    "            return None"
   ]
  },
  {
   "cell_type": "code",
   "execution_count": 6,
   "metadata": {},
   "outputs": [],
   "source": [
    "def scrape_headlines(session, technology_url):\n",
    "    headers = {\n",
    "        \"User-Agent\": \"Mozilla/5.0 (Windows NT 10.0; Win64; x64) AppleWebKit/537.36 (KHTML, like Gecko) Chrome/96.0.4664.110 Safari/537.36\"\n",
    "    }\n",
    "\n",
    "    # Use the session object to access the technology section page\n",
    "    response = session.get(technology_url, headers=headers)\n",
    "    if response.status_code == 200:\n",
    "        # Scrape the headlines from the technology section page using BeautifulSoup\n",
    "        soup = BeautifulSoup(response.text, \"html.parser\")\n",
    "        headlines = [headline.text.strip() for headline in soup.find_all(\"a\", class_=\"WSJTheme--headline--unZqjb45\")]\n",
    "        return headlines\n",
    "    else:\n",
    "        print(\"Failed to access technology section page:\", response.status_code)\n",
    "        return []"
   ]
  },
  {
   "cell_type": "code",
   "execution_count": 7,
   "metadata": {},
   "outputs": [
    {
     "name": "stdout",
     "output_type": "stream",
     "text": [
      "Login failed: 404\n"
     ]
    }
   ],
   "source": [
    "username = 'mallika101@hotmail.com'\n",
    "password = 'abc123'\n",
    "session = login(username, password)"
   ]
  },
  {
   "cell_type": "code",
   "execution_count": null,
   "metadata": {},
   "outputs": [],
   "source": [
    "if session:\n",
    "    technology_url = \"https://www.wsj.com/news/technology\"  # URL of the technology section\n",
    "    headlines = scrape_headlines(session, technology_url)\n",
    "    print(headlines)"
   ]
  },
  {
   "cell_type": "markdown",
   "metadata": {},
   "source": [
    "### Attempt 2: Selenium"
   ]
  },
  {
   "cell_type": "code",
   "execution_count": 6,
   "metadata": {},
   "outputs": [],
   "source": [
    "from selenium import webdriver\n",
    "from bs4 import BeautifulSoup\n",
    "import pandas as pd"
   ]
  },
  {
   "cell_type": "code",
   "execution_count": 11,
   "metadata": {},
   "outputs": [],
   "source": [
    "# Start a WebDriver (you need to have chromedriver installed in your system and its path added to the environment variables)\n",
    "driver = webdriver.Edge()\n",
    "\n",
    "# URL of the webpage to scrape\n",
    "url = \"https://www.wsj.com/news/archive/2024/03/21?page=1\"\n",
    "\n",
    "# Open the webpage\n",
    "driver.get(url)\n",
    "\n",
    "# Parse the HTML content\n",
    "soup = BeautifulSoup(driver.page_source, \"html.parser\")\n",
    "\n",
    "# Initialize lists to store data\n",
    "topics = []\n",
    "headlines = []\n",
    "published_times = []\n",
    "\n",
    "# Find all articles on the page\n",
    "articles = soup.find_all(\"article\")\n",
    "\n",
    "# Extract data from each article\n",
    "for article in articles:\n",
    "    # Extract topic\n",
    "    topic = article.find(\"div\", class_=\"WSJTheme--articleType--34Gt-vdG\").text.strip()\n",
    "    topics.append(topic)\n",
    "    \n",
    "    # Extract headline\n",
    "    headline = article.find(\"span\", class_=\"WSJTheme--headlineText--He1ANr9C\").text.strip()\n",
    "    headlines.append(headline)\n",
    "    \n",
    "    # Extract published time\n",
    "    published_time = article.find(\"p\", class_=\"WSJTheme--timestamp--22sfkNDv\").text.strip()\n",
    "    published_times.append(published_time)\n",
    "\n",
    "# Create a Pandas DataFrame\n",
    "data = {\n",
    "    \"Topic\": topics,\n",
    "    \"Headline\": headlines,\n",
    "    \"Published Time\": published_times\n",
    "}\n",
    "\n",
    "df = pd.DataFrame(data)\n",
    "\n",
    "# Close the WebDriver\n",
    "driver.quit()"
   ]
  },
  {
   "cell_type": "code",
   "execution_count": 3,
   "metadata": {},
   "outputs": [
    {
     "data": {
      "text/plain": [
       "50"
      ]
     },
     "execution_count": 3,
     "metadata": {},
     "output_type": "execute_result"
    }
   ],
   "source": [
    "len(articles)"
   ]
  },
  {
   "cell_type": "code",
   "execution_count": 4,
   "metadata": {},
   "outputs": [
    {
     "data": {
      "text/html": [
       "<div>\n",
       "<style scoped>\n",
       "    .dataframe tbody tr th:only-of-type {\n",
       "        vertical-align: middle;\n",
       "    }\n",
       "\n",
       "    .dataframe tbody tr th {\n",
       "        vertical-align: top;\n",
       "    }\n",
       "\n",
       "    .dataframe thead th {\n",
       "        text-align: right;\n",
       "    }\n",
       "</style>\n",
       "<table border=\"1\" class=\"dataframe\">\n",
       "  <thead>\n",
       "    <tr style=\"text-align: right;\">\n",
       "      <th></th>\n",
       "      <th>Topic</th>\n",
       "      <th>Headline</th>\n",
       "      <th>Published Time</th>\n",
       "    </tr>\n",
       "  </thead>\n",
       "  <tbody>\n",
       "    <tr>\n",
       "      <th>0</th>\n",
       "      <td>Economy</td>\n",
       "      <td>Japan’s Consumer Inflation Picked Up in February</td>\n",
       "      <td>9:26 PM ET</td>\n",
       "    </tr>\n",
       "    <tr>\n",
       "      <th>1</th>\n",
       "      <td>Healthcare</td>\n",
       "      <td>How to Fix Your Marriage in 16 Hours</td>\n",
       "      <td>9:00 PM ET</td>\n",
       "    </tr>\n",
       "    <tr>\n",
       "      <th>2</th>\n",
       "      <td>Travel</td>\n",
       "      <td>United and American Had the Most Baggage Handl...</td>\n",
       "      <td>9:00 PM ET</td>\n",
       "    </tr>\n",
       "    <tr>\n",
       "      <th>3</th>\n",
       "      <td>Election 2024</td>\n",
       "      <td>Trump Is in a Race Against Time to Protect His...</td>\n",
       "      <td>9:00 PM ET</td>\n",
       "    </tr>\n",
       "    <tr>\n",
       "      <th>4</th>\n",
       "      <td>If These Résumés Could Talk</td>\n",
       "      <td>The Cats Who Helped Make a Big Hire</td>\n",
       "      <td>9:00 PM ET</td>\n",
       "    </tr>\n",
       "    <tr>\n",
       "      <th>5</th>\n",
       "      <td>Theater Review</td>\n",
       "      <td>‘Water for Elephants’ Review: A Sanitized Circ...</td>\n",
       "      <td>9:00 PM ET</td>\n",
       "    </tr>\n",
       "    <tr>\n",
       "      <th>6</th>\n",
       "      <td>Economy</td>\n",
       "      <td>Australian Households Riding Out Pain of Soari...</td>\n",
       "      <td>8:42 PM ET</td>\n",
       "    </tr>\n",
       "    <tr>\n",
       "      <th>7</th>\n",
       "      <td>Business</td>\n",
       "      <td>Samsonite Scouts Second Listing Venue on Risin...</td>\n",
       "      <td>8:36 PM ET</td>\n",
       "    </tr>\n",
       "    <tr>\n",
       "      <th>8</th>\n",
       "      <td>Economy</td>\n",
       "      <td>U.K. Consumers Prove Cautious Amid Economic Cl...</td>\n",
       "      <td>8:12 PM ET</td>\n",
       "    </tr>\n",
       "    <tr>\n",
       "      <th>9</th>\n",
       "      <td>Markets</td>\n",
       "      <td>Robinhood Co-Founder to Step Down as Creative ...</td>\n",
       "      <td>8:04 PM ET</td>\n",
       "    </tr>\n",
       "  </tbody>\n",
       "</table>\n",
       "</div>"
      ],
      "text/plain": [
       "                         Topic  \\\n",
       "0                      Economy   \n",
       "1                   Healthcare   \n",
       "2                       Travel   \n",
       "3                Election 2024   \n",
       "4  If These Résumés Could Talk   \n",
       "5               Theater Review   \n",
       "6                      Economy   \n",
       "7                     Business   \n",
       "8                      Economy   \n",
       "9                      Markets   \n",
       "\n",
       "                                            Headline Published Time  \n",
       "0   Japan’s Consumer Inflation Picked Up in February     9:26 PM ET  \n",
       "1               How to Fix Your Marriage in 16 Hours     9:00 PM ET  \n",
       "2  United and American Had the Most Baggage Handl...     9:00 PM ET  \n",
       "3  Trump Is in a Race Against Time to Protect His...     9:00 PM ET  \n",
       "4                The Cats Who Helped Make a Big Hire     9:00 PM ET  \n",
       "5  ‘Water for Elephants’ Review: A Sanitized Circ...     9:00 PM ET  \n",
       "6  Australian Households Riding Out Pain of Soari...     8:42 PM ET  \n",
       "7  Samsonite Scouts Second Listing Venue on Risin...     8:36 PM ET  \n",
       "8  U.K. Consumers Prove Cautious Amid Economic Cl...     8:12 PM ET  \n",
       "9  Robinhood Co-Founder to Step Down as Creative ...     8:04 PM ET  "
      ]
     },
     "execution_count": 4,
     "metadata": {},
     "output_type": "execute_result"
    }
   ],
   "source": [
    "df.head(10)"
   ]
  }
 ],
 "metadata": {
  "kernelspec": {
   "display_name": "Python 3",
   "language": "python",
   "name": "python3"
  },
  "language_info": {
   "codemirror_mode": {
    "name": "ipython",
    "version": 3
   },
   "file_extension": ".py",
   "mimetype": "text/x-python",
   "name": "python",
   "nbconvert_exporter": "python",
   "pygments_lexer": "ipython3",
   "version": "3.11.5"
  }
 },
 "nbformat": 4,
 "nbformat_minor": 2
}
