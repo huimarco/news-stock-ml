{
 "cells": [
  {
   "cell_type": "markdown",
   "metadata": {},
   "source": [
    "### Attempt 1: Beautiful Soup"
   ]
  },
  {
   "cell_type": "code",
   "execution_count": 1,
   "metadata": {},
   "outputs": [],
   "source": [
    "import requests\n",
    "from bs4 import BeautifulSoup\n",
    "import pandas as pd"
   ]
  },
  {
   "cell_type": "code",
   "execution_count": 4,
   "metadata": {},
   "outputs": [],
   "source": [
    "wsj_login_page = 'https://sso.accounts.dowjones.com/login-page?client_id=5hssEAdMy0mJTICnJNvC9TXEw3Va7jfO&redirect_uri=https%3A%2F%2Fwww.wsj.com%2Fclient%2Fauth&response_type=code&scope=openid%20idp_id%20roles%20tags%20email%20given_name%20family_name%20uuid%20djid%20djUsername%20djStatus%20trackid%20prts%20updated_at%20created_at%20offline_access&ui_locales=en-us-x-wsj-223-2&nonce=1b34552c-ac89-4605-81d9-5b552a7452a0&state=nmfLpXnMOWJLlEjK.ifKgeElwMAfxoWUUCsEZVu2q-WgzWtwQKEy_EyvQbTs&resource=https%253A%252F%252Fwww.wsj.com%252F&protocol=oauth2&client=5hssEAdMy0mJTICnJNvC9TXEw3Va7jfO#!/signin'"
   ]
  },
  {
   "cell_type": "code",
   "execution_count": 5,
   "metadata": {},
   "outputs": [],
   "source": [
    "def login(username, password):\n",
    "    login_url = wsj_login_page\n",
    "    headers = {\n",
    "        \"User-Agent\": \"Mozilla/5.0 (Windows NT 10.0; Win64; x64) AppleWebKit/537.36 (KHTML, like Gecko) Chrome/96.0.4664.110 Safari/537.36\"\n",
    "    }\n",
    "\n",
    "    # Create a session object to persist the login session\n",
    "    with requests.Session() as session:\n",
    "        # Send a POST request with login credentials\n",
    "        login_data = {\n",
    "            \"username\": username,\n",
    "            \"password\": password\n",
    "        }\n",
    "        response = session.post(login_url, headers=headers, data=login_data)\n",
    "\n",
    "        # Check if login was successful (you might need to customize this condition)\n",
    "        if response.status_code == 200:\n",
    "            return session\n",
    "        else:\n",
    "            print(\"Login failed:\", response.status_code)\n",
    "            return None"
   ]
  },
  {
   "cell_type": "code",
   "execution_count": 6,
   "metadata": {},
   "outputs": [],
   "source": [
    "def scrape_headlines(session, technology_url):\n",
    "    headers = {\n",
    "        \"User-Agent\": \"Mozilla/5.0 (Windows NT 10.0; Win64; x64) AppleWebKit/537.36 (KHTML, like Gecko) Chrome/96.0.4664.110 Safari/537.36\"\n",
    "    }\n",
    "\n",
    "    # Use the session object to access the technology section page\n",
    "    response = session.get(technology_url, headers=headers)\n",
    "    if response.status_code == 200:\n",
    "        # Scrape the headlines from the technology section page using BeautifulSoup\n",
    "        soup = BeautifulSoup(response.text, \"html.parser\")\n",
    "        headlines = [headline.text.strip() for headline in soup.find_all(\"a\", class_=\"WSJTheme--headline--unZqjb45\")]\n",
    "        return headlines\n",
    "    else:\n",
    "        print(\"Failed to access technology section page:\", response.status_code)\n",
    "        return []"
   ]
  },
  {
   "cell_type": "code",
   "execution_count": 7,
   "metadata": {},
   "outputs": [
    {
     "name": "stdout",
     "output_type": "stream",
     "text": [
      "Login failed: 404\n"
     ]
    }
   ],
   "source": [
    "username = 'mallika101@hotmail.com'\n",
    "password = 'abc123'\n",
    "session = login(username, password)"
   ]
  },
  {
   "cell_type": "code",
   "execution_count": null,
   "metadata": {},
   "outputs": [],
   "source": [
    "if session:\n",
    "    technology_url = \"https://www.wsj.com/news/technology\"  # URL of the technology section\n",
    "    headlines = scrape_headlines(session, technology_url)\n",
    "    print(headlines)"
   ]
  },
  {
   "cell_type": "markdown",
   "metadata": {},
   "source": [
    "### Attempt 2: Selenium"
   ]
  },
  {
   "cell_type": "code",
   "execution_count": 1,
   "metadata": {},
   "outputs": [],
   "source": [
    "from selenium import webdriver\n",
    "from bs4 import BeautifulSoup\n",
    "import pandas as pd\n",
    "import datetime"
   ]
  },
  {
   "cell_type": "code",
   "execution_count": 20,
   "metadata": {},
   "outputs": [],
   "source": [
    "date = datetime.date(2023, 3, 19)\n",
    "\n",
    "# Extract year, month, day\n",
    "year = str(date.year)\n",
    "month = str(date.month).zfill(2)  # Zero-padding for single-digit months\n",
    "day = str(date.day).zfill(2)\n",
    "page_num = 1\n",
    "\n",
    "# Initialize lists to store data\n",
    "topics = []\n",
    "headlines = []\n",
    "published_times = []\n",
    "article_links = []"
   ]
  },
  {
   "cell_type": "code",
   "execution_count": 21,
   "metadata": {},
   "outputs": [],
   "source": [
    "# Start a WebDriver (you need to have chromedriver installed in your system and its path added to the environment variables)\n",
    "driver = webdriver.Edge()\n",
    "\n",
    "while True:\n",
    "    # URL of the webpage to scrape\n",
    "    url = f\"https://www.wsj.com/news/archive/{year}/{month}/{day}?page={page_num}\"\n",
    "\n",
    "    # Open the webpage\n",
    "    driver.get(url)\n",
    "\n",
    "    # Parse the HTML content\n",
    "    soup = BeautifulSoup(driver.page_source, \"html.parser\")\n",
    "\n",
    "    # Find all articles on the page\n",
    "    articles = soup.find_all(\"article\")\n",
    "\n",
    "    # No more articles on this page\n",
    "    if not articles: \n",
    "        break\n",
    "\n",
    "    # Extract data from each article\n",
    "    for article in articles:\n",
    "        # Extract topic\n",
    "        topic = article.find(\"div\", class_=\"WSJTheme--articleType--34Gt-vdG\").text.strip()\n",
    "        topics.append(topic)\n",
    "        \n",
    "        # Extract headline\n",
    "        headline = article.find(\"span\", class_=\"WSJTheme--headlineText--He1ANr9C\").text.strip()\n",
    "        headlines.append(headline)\n",
    "        \n",
    "        # Extract published time\n",
    "        published_time = article.find(\"p\", class_=\"WSJTheme--timestamp--22sfkNDv\").text.strip()\n",
    "        published_times.append(published_time)\n",
    "\n",
    "        # Extract article link\n",
    "        link = article.find(\"a\", href=True)[\"href\"]\n",
    "        article_links.append(link)\n",
    "    \n",
    "    # Increment page\n",
    "    page_num += 1\n",
    "\n",
    "\n",
    "# Create a Pandas DataFrame\n",
    "data = {\n",
    "    \"Topic\": topics,\n",
    "    \"Headline\": headlines,\n",
    "    \"Published Time\": published_times,\n",
    "    \"URL\": article_links\n",
    "}\n",
    "\n",
    "df = pd.DataFrame(data)\n",
    "\n",
    "# Close the WebDriver\n",
    "driver.quit()"
   ]
  },
  {
   "cell_type": "code",
   "execution_count": 23,
   "metadata": {},
   "outputs": [
    {
     "data": {
      "text/plain": [
       "58"
      ]
     },
     "execution_count": 23,
     "metadata": {},
     "output_type": "execute_result"
    }
   ],
   "source": [
    "len(df)"
   ]
  },
  {
   "cell_type": "code",
   "execution_count": null,
   "metadata": {},
   "outputs": [],
   "source": [
    "df.head(10)"
   ]
  },
  {
   "cell_type": "markdown",
   "metadata": {},
   "source": [
    "Testing speed"
   ]
  },
  {
   "cell_type": "code",
   "execution_count": 47,
   "metadata": {},
   "outputs": [],
   "source": [
    "# Function to scrape all headlines on WSJ on a given day\n",
    "def scrape_wsj_date(driver, date):\n",
    "    # Base URL\n",
    "    base_url = f'https://www.wsj.com/news/archive/{str(date.year)}/{str(date.month).zfill(2)}/{str(date.day).zfill(2)}?page='\n",
    "\n",
    "    # Extract year, month, day\n",
    "    #year = str(date.year)\n",
    "    #month = str(date.month).zfill(2)  # Zero-padding for single-digit months\n",
    "    #day = str(date.day).zfill(2)\n",
    "\n",
    "    # Initialize lists to store data\n",
    "    topics = []\n",
    "    headlines = []\n",
    "    published_times = []\n",
    "    article_links = []\n",
    "\n",
    "    # Create page counter\n",
    "    page_num = 1\n",
    "\n",
    "    # Loop through each page\n",
    "    while True:\n",
    "        # URL of the webpage to scrape\n",
    "        url = base_url + str(page_num)\n",
    "\n",
    "        # Open the webpage\n",
    "        driver.get(url)\n",
    "\n",
    "        # Parse the HTML content\n",
    "        soup = BeautifulSoup(driver.page_source, 'html.parser')\n",
    "\n",
    "        # Find all articles on the page\n",
    "        articles = soup.find_all('article')\n",
    "\n",
    "        # Exit loop if no more articles on page\n",
    "        if not articles: \n",
    "            break\n",
    "\n",
    "        # Extract data from each article\n",
    "        for article in articles:\n",
    "            # Extract topic\n",
    "            topic = article.find('div', class_='WSJTheme--articleType--34Gt-vdG').text.strip()\n",
    "            topics.append(topic)\n",
    "            \n",
    "            # Extract headline\n",
    "            headline = article.find('span', class_='WSJTheme--headlineText--He1ANr9C').text.strip()\n",
    "            headlines.append(headline)\n",
    "            \n",
    "            # Extract published time\n",
    "            published_time = article.find('p', class_='WSJTheme--timestamp--22sfkNDv').text.strip()\n",
    "            published_times.append(published_time)\n",
    "\n",
    "            # Extract article link\n",
    "            link = article.find(\"a\", href=True)[\"href\"]\n",
    "            article_links.append(link)\n",
    "        \n",
    "        # Increment page\n",
    "        page_num += 1\n",
    "\n",
    "\n",
    "    # Create a Pandas DataFrame\n",
    "    data = {\n",
    "        'Topic': topics,\n",
    "        'Headline': headlines,\n",
    "        'Published Time': published_times,\n",
    "        'URL': article_links\n",
    "    }\n",
    "\n",
    "    df = pd.DataFrame(data)\n",
    "\n",
    "    return df\n",
    "\n",
    "def scrape_wsj(start_date, end_date):\n",
    "    # Start a WebDriver (you need to have chromedriver installed in your system and its path added to the environment variables)\n",
    "    driver = webdriver.Edge()\n",
    "\n",
    "    # Generate a list of DataFrames for each day\n",
    "    dfs = [scrape_wsj_date(driver, current_date) for current_date in pd.date_range(start_date, end_date)]\n",
    "    \n",
    "    # Concatenate all DataFrames in the list into a single DataFrame\n",
    "    output_df = pd.concat(dfs, ignore_index=True)\n",
    "\n",
    "    # Close the WebDriver\n",
    "    driver.quit()\n",
    "    \n",
    "    return output_df"
   ]
  },
  {
   "cell_type": "markdown",
   "metadata": {},
   "source": [
    "testing"
   ]
  },
  {
   "cell_type": "code",
   "execution_count": 62,
   "metadata": {},
   "outputs": [],
   "source": [
    "# Function to scrape all headlines on WSJ on a given day\n",
    "def scrape_wsj_date(driver, date):\n",
    "    # Base URL\n",
    "    base_url = f'https://www.wsj.com/news/archive/{str(date.year)}/{str(date.month).zfill(2)}/{str(date.day).zfill(2)}?page='\n",
    "\n",
    "    # Initialize lists to store data\n",
    "    all_articles = []\n",
    "\n",
    "    # Create page counter\n",
    "    page_num = 1\n",
    "\n",
    "    # Loop through each page\n",
    "    while True:\n",
    "        # URL of the webpage to scrape\n",
    "        url = base_url + str(page_num)\n",
    "\n",
    "        # Open the webpage\n",
    "        driver.get(url)\n",
    "\n",
    "        # Parse the HTML content\n",
    "        soup = BeautifulSoup(driver.page_source, 'html.parser')\n",
    "\n",
    "        # Find all articles on the page\n",
    "        articles = soup.find_all('article')\n",
    "\n",
    "        # Exit loop if no more articles on page\n",
    "        if not articles: \n",
    "            break\n",
    "        \n",
    "        all_articles.append(articles)\n",
    "        \n",
    "        # Increment page\n",
    "        page_num += 1\n",
    "\n",
    "    return all_articles\n",
    "\n",
    "def scrape_wsj(start_date, end_date):\n",
    "    # Start a WebDriver (you need to have chromedriver installed in your system and its path added to the environment variables)\n",
    "    driver = webdriver.Edge()\n",
    "\n",
    "    # Generate a list of DataFrames for each day\n",
    "    all_articles = [scrape_wsj_date(driver, current_date) for current_date in pd.date_range(start_date, end_date)]\n",
    "\n",
    "    # Close the WebDriver\n",
    "    driver.quit()\n",
    "    \n",
    "    return all_articles"
   ]
  },
  {
   "cell_type": "code",
   "execution_count": 63,
   "metadata": {},
   "outputs": [],
   "source": [
    "start_date = datetime.date(2023, 3, 19)\n",
    "end_date = datetime.date(2023, 3, 20)\n",
    "wsj = scrape_wsj(start_date, end_date)"
   ]
  }
 ],
 "metadata": {
  "kernelspec": {
   "display_name": "Python 3",
   "language": "python",
   "name": "python3"
  },
  "language_info": {
   "codemirror_mode": {
    "name": "ipython",
    "version": 3
   },
   "file_extension": ".py",
   "mimetype": "text/x-python",
   "name": "python",
   "nbconvert_exporter": "python",
   "pygments_lexer": "ipython3",
   "version": "3.11.5"
  }
 },
 "nbformat": 4,
 "nbformat_minor": 2
}
