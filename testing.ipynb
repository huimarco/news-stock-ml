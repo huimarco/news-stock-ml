{
 "cells": [
  {
   "cell_type": "markdown",
   "metadata": {},
   "source": [
    "### Attempt 1: Beautiful Soup"
   ]
  },
  {
   "cell_type": "code",
   "execution_count": 35,
   "metadata": {},
   "outputs": [],
   "source": [
    "import requests\n",
    "from bs4 import BeautifulSoup\n",
    "import pandas as pd\n",
    "import datetime"
   ]
  },
  {
   "cell_type": "markdown",
   "metadata": {},
   "source": [
    "scraping headlines"
   ]
  },
  {
   "cell_type": "code",
   "execution_count": 36,
   "metadata": {},
   "outputs": [],
   "source": [
    "# Function to scrape all headlines on WSJ on a given day\n",
    "def scrape_wsj_date(date):\n",
    "    # Base URL\n",
    "    base_url = f'https://www.wsj.com/news/archive/{str(date.year)}/{str(date.month).zfill(2)}/{str(date.day).zfill(2)}?page='\n",
    "\n",
    "    # Initialize lists to store data\n",
    "    all_articles = []\n",
    "\n",
    "    # Create page counter\n",
    "    page_num = 1\n",
    "\n",
    "    # Define header\n",
    "    headers = {'User-Agent': 'Mozilla/5.0 (Macintosh; Intel Mac OS X 10_11_5) AppleWebKit/537.36 (KHTML, like Gecko) Chrome/50.0.2661.102 Safari/537.36'}\n",
    "\n",
    "    # Loop through each page\n",
    "    while True:\n",
    "        # URL of the webpage to scrape\n",
    "        url = base_url + str(page_num)\n",
    "\n",
    "        # Open the webpage\n",
    "        response = requests.get(url, headers=headers)\n",
    "\n",
    "        # Parse the HTML content\n",
    "        soup = BeautifulSoup(response.text, 'html.parser')\n",
    "\n",
    "        # Find all articles on the page\n",
    "        articles = soup.find_all('article')\n",
    "\n",
    "        # Exit loop if no more articles on page\n",
    "        if not articles: \n",
    "            break\n",
    "        \n",
    "        all_articles.extend(articles)\n",
    "        \n",
    "        # Increment page\n",
    "        page_num += 1\n",
    "\n",
    "    return all_articles"
   ]
  },
  {
   "cell_type": "code",
   "execution_count": 37,
   "metadata": {},
   "outputs": [],
   "source": [
    "date = datetime.date(2023, 3, 19)\n",
    "\n",
    "temp = scrape_wsj_date(date)"
   ]
  },
  {
   "cell_type": "code",
   "execution_count": 38,
   "metadata": {},
   "outputs": [
    {
     "data": {
      "text/plain": [
       "58"
      ]
     },
     "execution_count": 38,
     "metadata": {},
     "output_type": "execute_result"
    }
   ],
   "source": [
    "len(temp)"
   ]
  },
  {
   "cell_type": "markdown",
   "metadata": {},
   "source": [
    "scraping article body"
   ]
  },
  {
   "cell_type": "code",
   "execution_count": 39,
   "metadata": {},
   "outputs": [],
   "source": [
    "# Base URL\n",
    "url = f'https://www.wsj.com/world/middle-east/syria-says-israeli-strikes-near-aleppo-kill-wound-dozens-27a66ace'\n",
    "\n",
    "# Define header\n",
    "headers = {'User-Agent': 'Mozilla/5.0 (Macintosh; Intel Mac OS X 10_11_5) AppleWebKit/537.36 (KHTML, like Gecko) Chrome/50.0.2661.102 Safari/537.36'}\n",
    "\n",
    "response = requests.get(url, headers=headers)\n",
    "\n",
    "soup = BeautifulSoup(response.text, 'html.parser')"
   ]
  },
  {
   "cell_type": "code",
   "execution_count": 41,
   "metadata": {},
   "outputs": [
    {
     "data": {
      "text/plain": [
       "<html><head><title>wsj.com</title><style>#cmsg{animation: A 1.5s;}@keyframes A{0%{opacity:0;}99%{opacity:0;}100%{opacity:1;}}</style></head><body style=\"margin:0\"><p id=\"cmsg\">Please enable JS and disable any ad blocker</p><script data-cfasync=\"false\">var dd={'rt':'c','cid':'AHrlqAAAAAMAf3Q7YQAmGH0Aa4lleQ==','hsh':'D428D51E28968797BC27FB9153435D','t':'fe','s':47192,'e':'e458cbe70e6c77951cb530148bba13711065fe2b9bdd9b3c37ba60097918b0fd','host':'geo.captcha-delivery.com'}</script><script data-cfasync=\"false\" src=\"https://ct.captcha-delivery.com/c.js\"></script></body></html>"
      ]
     },
     "execution_count": 41,
     "metadata": {},
     "output_type": "execute_result"
    }
   ],
   "source": [
    "soup"
   ]
  },
  {
   "cell_type": "markdown",
   "metadata": {},
   "source": [
    "### Attempt 2: Selenium"
   ]
  },
  {
   "cell_type": "markdown",
   "metadata": {},
   "source": [
    "scraping content"
   ]
  },
  {
   "cell_type": "code",
   "execution_count": 9,
   "metadata": {},
   "outputs": [],
   "source": [
    "from selenium import webdriver\n",
    "from selenium.webdriver.edge.service import Service\n",
    "from selenium.webdriver.common.by import By\n",
    "import time\n",
    "import random"
   ]
  },
  {
   "cell_type": "code",
   "execution_count": null,
   "metadata": {},
   "outputs": [],
   "source": [
    "# Path to the Microsoft Edge WebDriver executable\n",
    "edge_driver_path = r'C:\\Users\\MarcoHui\\Desktop\\msedgedriver.exe'  # Update this with the actual path\n",
    "\n",
    "# Initialize Edge WebDriver with the specified path\n",
    "edge_service = Service(edge_driver_path)\n",
    "edge_service.start()\n",
    "driver = webdriver.Edge(service=edge_service)\n",
    "\n",
    "# URL of the article to scrape\n",
    "url = 'https://www.wsj.com/world/middle-east/-jose-andres-chef-gaza-israel-war-ea9512f8'\n",
    "\n",
    "# Open the URL in the browser\n",
    "driver.get(url)\n",
    "\n",
    "# Introduce a random delay between 3 to 5 seconds to mimic human-like behavior\n",
    "time.sleep(random.uniform(3, 5))\n",
    "\n",
    "# Find the article body element\n",
    "article_body_element = driver.find_element(By.CLASS_NAME, 'article-body')\n",
    "\n",
    "# Extract text from the article body\n",
    "article_body = article_body_element.text\n",
    "\n",
    "# Print or process the article body as needed\n",
    "print(article_body)\n",
    "\n",
    "# Close the browser\n",
    "driver.quit()\n"
   ]
  },
  {
   "cell_type": "code",
   "execution_count": null,
   "metadata": {},
   "outputs": [],
   "source": [
    "from selenium import webdriver\n",
    "from selenium.webdriver.common.keys import Keys\n",
    "from bs4 import BeautifulSoup\n",
    "import time\n",
    "\n",
    "# URL of the article\n",
    "url = 'https://www.wsj.com/world/middle-east/syria-says-israeli-strikes-near-aleppo-kill-wound-dozens-27a66ace'\n",
    "\n",
    "# Set up the Selenium driver with Edge\n",
    "driver = webdriver.Edge()  # Use Edge WebDriver\n",
    "\n",
    "# Load the page\n",
    "driver.get(url)\n",
    "\n",
    "# Wait for the sign-in link to appear and click it\n",
    "sign_in_link = driver.find_element_by_link_text(\"Sign In\")\n",
    "sign_in_link.click()\n",
    "\n",
    "# Wait for the sign-in page to load\n",
    "time.sleep(2)\n",
    "\n",
    "# Enter your username and password\n",
    "username_field = driver.find_element_by_id(\"username\")\n",
    "username_field.send_keys(\"\")  # Replace \"your_username\" with your actual username\n",
    "password_field = driver.find_element_by_id(\"password\")\n",
    "password_field.send_keys(\"abc123\")  # Replace \"your_password\" with your actual password\n",
    "\n",
    "# Submit the login form\n",
    "password_field.send_keys(Keys.RETURN)\n",
    "\n",
    "# Wait for the page to load after login\n",
    "time.sleep(5)\n",
    "\n",
    "# Now you can extract the page source\n",
    "page_source = driver.page_source\n",
    "\n",
    "# Close the driver\n",
    "driver.quit()\n",
    "\n",
    "# Parse the page source with BeautifulSoup\n",
    "soup = BeautifulSoup(page_source, 'html.parser')\n",
    "\n",
    "# Now you can scrape the content as you normally would with BeautifulSoup\n"
   ]
  }
 ],
 "metadata": {
  "kernelspec": {
   "display_name": "Python 3",
   "language": "python",
   "name": "python3"
  },
  "language_info": {
   "codemirror_mode": {
    "name": "ipython",
    "version": 3
   },
   "file_extension": ".py",
   "mimetype": "text/x-python",
   "name": "python",
   "nbconvert_exporter": "python",
   "pygments_lexer": "ipython3",
   "version": "3.11.4"
  }
 },
 "nbformat": 4,
 "nbformat_minor": 2
}
